{
 "cells": [
  {
   "cell_type": "code",
   "execution_count": 1,
   "id": "f4220875-3810-4e1e-9b2d-da9d273dedb5",
   "metadata": {},
   "outputs": [],
   "source": [
    "# oop assignment - 2"
   ]
  },
  {
   "cell_type": "code",
   "execution_count": 9,
   "id": "ffe53137-d8eb-41f7-8304-3d14153446d4",
   "metadata": {},
   "outputs": [],
   "source": [
    "# Q-1\n",
    "\"\"\"\n",
    "In object-oriented programming (OOP), abstraction is the concept of simplifying complex systems by focusing \n",
    "on essential properties and ignoring non-essential details. \n",
    "It involves creating abstract classes or interfaces that define a blueprint for objects, specifying what they can do \n",
    "without detailing how they achieve it. Abstraction allows for the representation of real-world entities \n",
    "and their behaviors in a simplified and understandable manner.\"\"\"\n",
    "\n",
    "import abc\n",
    "\n",
    "class shape:\n",
    "    @abc.abstractmethod\n",
    "    def calculate_area(self):\n",
    "        pass\n",
    "    \n",
    "class circle(shape):\n",
    "    def __init__(self,radius):\n",
    "        self.radius=radius\n",
    "        \n",
    "    def calculate_area(self):\n",
    "        return 3.14*self.radius**2\n",
    "    \n",
    "class retangle(shape):\n",
    "    def __init__(self,lenght,breath):\n",
    "        self.lenght=lenght\n",
    "        self.breath=breath\n",
    "        \n",
    "    def calculate_area(self):\n",
    "        return (self.lenght)*(self.breath)\n"
   ]
  },
  {
   "cell_type": "code",
   "execution_count": 10,
   "id": "67ba084a-a46f-49f4-a5a0-be462dcec596",
   "metadata": {},
   "outputs": [
    {
     "name": "stdout",
     "output_type": "stream",
     "text": [
      "The area of circle is 12.56.\n",
      "The area rectangle is 6.\n"
     ]
    }
   ],
   "source": [
    "circle=circle(2)\n",
    "rectangle=retangle(2,3)\n",
    "print(f\"The area of circle is {circle.calculate_area()}.\")\n",
    "print(f\"The area rectangle is {rectangle.calculate_area()}.\")"
   ]
  },
  {
   "cell_type": "code",
   "execution_count": 11,
   "id": "83b05919-9e0b-4bae-b9c4-e2c98764a24e",
   "metadata": {},
   "outputs": [
    {
     "data": {
      "text/plain": [
       "'\\nIn this example, Shape is an abstract class representing a shape with an abstract method calculate_area(). \\nCircle is a concrete class that extends Shape and provides its implementation of calculate_area(). \\nAbstraction is seen in the separation of the abstract concept of a shape from the specific details of calculating \\nthe area for a circle.'"
      ]
     },
     "execution_count": 11,
     "metadata": {},
     "output_type": "execute_result"
    }
   ],
   "source": [
    "#Q-2\n",
    "\"\"\"\n",
    "1)Abstraction:\n",
    "Abstraction is the process of simplifying complex systems by focusing on essential properties \n",
    "and ignoring non-essential details.\n",
    "It involves creating abstract classes or interfaces that define a blueprint for objects, \n",
    "specifying what they can do without detailing how they achieve it.\"\"\"\n",
    "\n",
    "from abc import ABC, abstractmethod\n",
    "\n",
    "class Shape(ABC):\n",
    "    @abstractmethod\n",
    "    def calculate_area(self):\n",
    "        pass\n",
    "\n",
    "class Circle(Shape):\n",
    "    def __init__(self, radius):\n",
    "        self.radius = radius\n",
    "\n",
    "    def calculate_area(self):\n",
    "        return 3.14 * self.radius * self.radius\n",
    "\n",
    "\"\"\"\n",
    "In this example, Shape is an abstract class representing a shape with an abstract method calculate_area(). \n",
    "Circle is a concrete class that extends Shape and provides its implementation of calculate_area(). \n",
    "Abstraction is seen in the separation of the abstract concept of a shape from the specific details of calculating \n",
    "the area for a circle.\"\"\""
   ]
  },
  {
   "cell_type": "code",
   "execution_count": 12,
   "id": "5a8fc509-e108-4873-9342-ab07da13ab71",
   "metadata": {},
   "outputs": [
    {
     "name": "stdout",
     "output_type": "stream",
     "text": [
      "Name: John\n",
      "Age: 20\n",
      "New Age: 21\n"
     ]
    },
    {
     "data": {
      "text/plain": [
       "'\\nIn this example, the Student class encapsulates the data (name and age) and provides methods (get_name(), \\nget_age(), and set_age()) to access and modify this data. \\nEncapsulation is seen in the control and restriction of direct access to the internal attributes of the Student object. \\nThe use of double underscores (__) before attribute names is a convention in Python to indicate that an attribute is private.\\n'"
      ]
     },
     "execution_count": 12,
     "metadata": {},
     "output_type": "execute_result"
    }
   ],
   "source": [
    "\"\"\"\n",
    "2)Encapsulation:\n",
    "Encapsulation is the bundling of data (attributes) and the methods that operate on the data into a single unit (class).\n",
    "It involves restricting access to some of an object's components, preventing the direct modification \n",
    "of internal state from outside the object\"\"\"\n",
    "\n",
    "class Student:\n",
    "    def __init__(self, name, age):\n",
    "        self.__name = name  # Encapsulation: using double underscores for private attribute\n",
    "        self.__age = age\n",
    "\n",
    "    def get_name(self):\n",
    "        return self.__name\n",
    "\n",
    "    def get_age(self):\n",
    "        return self.__age\n",
    "\n",
    "    def set_age(self, new_age):\n",
    "        if new_age > 0:\n",
    "            self.__age = new_age\n",
    "\n",
    "# Creating an object\n",
    "student = Student(\"John\", 20)\n",
    "\n",
    "# Accessing data through methods (encapsulation)\n",
    "print(\"Name:\", student.get_name())\n",
    "print(\"Age:\", student.get_age())\n",
    "\n",
    "# Modifying data through a method (encapsulation)\n",
    "student.set_age(21)\n",
    "print(\"New Age:\", student.get_age())\n",
    "\n",
    "\"\"\"\n",
    "In this example, the Student class encapsulates the data (name and age) and provides methods (get_name(), \n",
    "get_age(), and set_age()) to access and modify this data. \n",
    "Encapsulation is seen in the control and restriction of direct access to the internal attributes of the Student object. \n",
    "The use of double underscores (__) before attribute names is a convention in Python to indicate that an attribute is private.\n",
    "\"\"\""
   ]
  },
  {
   "cell_type": "code",
   "execution_count": 13,
   "id": "b5adff1e-b003-44b8-8669-834bf6072cdc",
   "metadata": {},
   "outputs": [
    {
     "name": "stdout",
     "output_type": "stream",
     "text": [
      "Circle Area: 78.5\n"
     ]
    },
    {
     "data": {
      "text/plain": [
       "'\\nIn this example, Shape is an abstract base class with an abstract method calculate_area(). \\nThe Circle class is a concrete subclass that inherits from Shape and provides an implementation for the abstract method. \\nUsing the abc module, we enforce that any class deriving from Shape must implement the calculate_area() method.'"
      ]
     },
     "execution_count": 13,
     "metadata": {},
     "output_type": "execute_result"
    }
   ],
   "source": [
    "# Q-3\n",
    "\"\"\"\n",
    "The abc module in Python helps make sure that certain types of classes follow a set of rules. \n",
    "It's like having a template that says, \"If you want to be this type of thing, you must have these specific parts.\" \n",
    "This ensures that different pieces of code work well together. \n",
    "The abc module is like a helpful tool that encourages order and cooperation in a program.\"\"\"\n",
    "\n",
    "from abc import ABC, abstractmethod\n",
    "\n",
    "# Abstract Base Class\n",
    "class Shape(ABC):\n",
    "    @abstractmethod\n",
    "    def calculate_area(self):\n",
    "        pass\n",
    "\n",
    "# Concrete class implementing the abstract method\n",
    "class Circle(Shape):\n",
    "    def __init__(self, radius):\n",
    "        self.radius = radius\n",
    "\n",
    "    def calculate_area(self):\n",
    "        return 3.14 * self.radius * self.radius\n",
    "\n",
    "# Creating an instance of the concrete class\n",
    "circle = Circle(5)\n",
    "print(\"Circle Area:\", circle.calculate_area())\n",
    "\n",
    "\"\"\"\n",
    "In this example, Shape is an abstract base class with an abstract method calculate_area(). \n",
    "The Circle class is a concrete subclass that inherits from Shape and provides an implementation for the abstract method. \n",
    "Using the abc module, we enforce that any class deriving from Shape must implement the calculate_area() method.\"\"\""
   ]
  },
  {
   "cell_type": "code",
   "execution_count": null,
   "id": "04324869-07a1-4eda-85cd-597b07b2d4ae",
   "metadata": {},
   "outputs": [],
   "source": [
    "# Q-4\n",
    "\"\"\"\n",
    "Data abstraction in programming is achieved by hiding the complex details of how data is stored and processed, \n",
    "and exposing only the essential features. Here's a short and simple explanation:\n",
    "\n",
    "1)Use Classes:\n",
    "Organize your data and functions into classes.\n",
    "Hide the internal details of data manipulation within the class.\n",
    "\n",
    "2)Encapsulation:\n",
    "\n",
    "Use private variables to restrict direct access to the internal data.\n",
    "Provide public methods to interact with and manipulate the data.\"\"\""
   ]
  },
  {
   "cell_type": "code",
   "execution_count": null,
   "id": "6b8828f8-7759-4a63-a871-8efc31635eb0",
   "metadata": {},
   "outputs": [],
   "source": [
    "# Q-5\n",
    "\"\"\"\n",
    "In Python, you can't make a direct copy of an abstract class to use on its own. \n",
    "Abstract classes are like blueprints that need more details before you can use them. \n",
    "They're made to be completed by other classes that add the missing pieces. \n",
    "Trying to create an instance of just the abstract class itself won't work.\"\"\""
   ]
  }
 ],
 "metadata": {
  "kernelspec": {
   "display_name": "Python 3 (ipykernel)",
   "language": "python",
   "name": "python3"
  },
  "language_info": {
   "codemirror_mode": {
    "name": "ipython",
    "version": 3
   },
   "file_extension": ".py",
   "mimetype": "text/x-python",
   "name": "python",
   "nbconvert_exporter": "python",
   "pygments_lexer": "ipython3",
   "version": "3.10.8"
  }
 },
 "nbformat": 4,
 "nbformat_minor": 5
}
